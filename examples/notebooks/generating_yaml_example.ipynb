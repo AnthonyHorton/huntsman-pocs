{
 "cells": [
  {
   "cell_type": "markdown",
   "metadata": {},
   "source": [
    "### Steps for using the widgets:\n",
    "\n",
    "1. Select from the drop-down menus the information for one device set.\n",
    "2. Click 'Add new device set'.\n",
    "3. Select from the drop-down menus the information for the next device set.\n",
    "4. Click 'Add new device set'.\n",
    "5. Repeat until all device sets have been added.\n",
    "6. Click 'Save File' to write the .yaml config file.\n",
    "\n",
    "\n",
    "#### Config files are writen to the following locations on the Huntsman computer bu default:\n",
    "\n",
    "- '/var/huntsman-pocs/conf_files/huntsman.yaml' for the local file.\n",
    "\n",
    "- '/var/huntsman-pocs/conf_files/huntsman_archive/huntsman_YYYY_mm_dd_hh_MM.yaml' for the archive/version control file.\n",
    "\n",
    "Manually assign the directories to place these files by using POCS_device_yaml.assign_local_dir() and POCS_device_yaml.assign_archive_dir() as below."
   ]
  },
  {
   "cell_type": "code",
   "execution_count": 1,
   "metadata": {
    "scrolled": true
   },
   "outputs": [],
   "source": [
    "%run ../../scripts/generating_yaml.py"
   ]
  },
  {
   "cell_type": "code",
   "execution_count": 2,
   "metadata": {},
   "outputs": [],
   "source": [
    "POCS_device_yaml = POCS_devices_database()"
   ]
  },
  {
   "cell_type": "code",
   "execution_count": 3,
   "metadata": {},
   "outputs": [
    {
     "name": "stdout",
     "output_type": "stream",
     "text": [
      "This function runs all the code to generate the .yaml config files for the Huntsman-POCS system.\n",
      "        It displays the Jupyter widgets which the user can interact with to write and save the config files.\n",
      "\n",
      "        Files are saved in two locations, one for the local file that POCS will access,\n",
      "                        and the other is an archive of all previous config files which acts as a version control.\n",
      "        By default, these locations are: (but can be changed using the arguments in the __init__ method)\n",
      "            '/var/huntsman/huntsman-pocs/conf_files/huntsman.yaml' for the local file.\n",
      "            '/var/huntsman/huntsman-pocs/conf_files/huntsman_archive/huntsman_YYYY_mm_dd_hh_MM.yaml' for the archive file.\n",
      "\n",
      "        Steps for the user to follow:\n",
      "            Select from the dropdown menus the information for one device set.\n",
      "            Click 'Add new device set'.\n",
      "            Select from the dropdown menus the information for the next device set.\n",
      "            Click 'Add new device set'.\n",
      "            Repeat until all device sets have been added.\n",
      "            Click 'Save File' to write the .yaml file.\n",
      "\n",
      "        Displays:\n",
      "            Jupyter widgets of drop-down menus to select the device sets.\n",
      "                These widgets are used to generate and save the .yaml config files.\n",
      "\n",
      "        Output:\n",
      "            A .yaml config file for Huntsman\n",
      "\n",
      "        \n"
     ]
    },
    {
     "data": {
      "application/vnd.jupyter.widget-view+json": {
       "model_id": "38ed1b9714e843c6b71c0c00e8987e98",
       "version_major": 2,
       "version_minor": 0
      },
      "text/plain": [
       "interactive(children=(Dropdown(description='birger_serial_number_displayed', options=('10858', '14287', '14286…"
      ]
     },
     "metadata": {},
     "output_type": "display_data"
    },
    {
     "data": {
      "application/vnd.jupyter.widget-view+json": {
       "model_id": "56b1511abcc942e7ba315a3aa51d69d8",
       "version_major": 2,
       "version_minor": 0
      },
      "text/plain": [
       "interactive(children=(Dropdown(description='camera_serial_number_displayed', options=('83F011167', '83F011791'…"
      ]
     },
     "metadata": {},
     "output_type": "display_data"
    },
    {
     "data": {
      "application/vnd.jupyter.widget-view+json": {
       "model_id": "0f749e073c124e71a9c0b1b17e7cb1be",
       "version_major": 2,
       "version_minor": 0
      },
      "text/plain": [
       "interactive(children=(Dropdown(description='lens_serial_number_displayed', options=('3360000099', '3360000063'…"
      ]
     },
     "metadata": {},
     "output_type": "display_data"
    },
    {
     "data": {
      "application/vnd.jupyter.widget-view+json": {
       "model_id": "314e82fbd1604114843b60b0bce92657",
       "version_major": 2,
       "version_minor": 0
      },
      "text/plain": [
       "interactive(children=(Dropdown(description='filter_ID_code_displayed', options=('r2_1', 'r2_2', 'g2_3', 'g2_4'…"
      ]
     },
     "metadata": {},
     "output_type": "display_data"
    },
    {
     "data": {
      "application/vnd.jupyter.widget-view+json": {
       "model_id": "3b56dc48c17b4ccdba90fdb78624072c",
       "version_major": 2,
       "version_minor": 0
      },
      "text/plain": [
       "interactive(children=(Dropdown(description='serial_into_USBhub_port_displayed', options=(0, 1, 2, 3, 4, 5, 6, …"
      ]
     },
     "metadata": {},
     "output_type": "display_data"
    },
    {
     "data": {
      "application/vnd.jupyter.widget-view+json": {
       "model_id": "ceb4d548b63a416b877d95a24b7859bd",
       "version_major": 2,
       "version_minor": 0
      },
      "text/plain": [
       "interactive(children=(Dropdown(description='camera_into_serial_port_displayed', options=(1, 2, 3, 4), value=1)…"
      ]
     },
     "metadata": {},
     "output_type": "display_data"
    },
    {
     "data": {
      "application/vnd.jupyter.widget-view+json": {
       "model_id": "de8f1edddc884e649a6f3210f7ff20cf",
       "version_major": 2,
       "version_minor": 0
      },
      "text/plain": [
       "interactive(children=(Dropdown(description='USBhub_SN_displayed', options=('OX518EFFE1', 'OXCD12637D'), value=…"
      ]
     },
     "metadata": {},
     "output_type": "display_data"
    },
    {
     "data": {
      "application/vnd.jupyter.widget-view+json": {
       "model_id": "4f274a26693e41599b238927151e4360",
       "version_major": 2,
       "version_minor": 0
      },
      "text/plain": [
       "interactive(children=(Dropdown(description='camera_into_USBhub_port_displayed', options=(0, 1, 2, 3, 4, 5, 6, …"
      ]
     },
     "metadata": {},
     "output_type": "display_data"
    },
    {
     "data": {
      "application/vnd.jupyter.widget-view+json": {
       "model_id": "6c8f6d2a118f4d1c8937f9d52a33232b",
       "version_major": 2,
       "version_minor": 0
      },
      "text/plain": [
       "Button(description='Add new device set', style=ButtonStyle())"
      ]
     },
     "metadata": {},
     "output_type": "display_data"
    },
    {
     "data": {
      "application/vnd.jupyter.widget-view+json": {
       "model_id": "5807fc523c7f43d2b05a7d2b36dc48f5",
       "version_major": 2,
       "version_minor": 0
      },
      "text/plain": [
       "Button(description='Save File', style=ButtonStyle())"
      ]
     },
     "metadata": {},
     "output_type": "display_data"
    },
    {
     "name": "stdout",
     "output_type": "stream",
     "text": [
      "ha1_13\n"
     ]
    }
   ],
   "source": [
    "POCS_device_yaml.start_interface()"
   ]
  },
  {
   "cell_type": "code",
   "execution_count": null,
   "metadata": {
    "collapsed": true
   },
   "outputs": [],
   "source": []
  }
 ],
 "metadata": {
  "kernelspec": {
   "display_name": "Python 3",
   "language": "python",
   "name": "python3"
  },
  "language_info": {
   "codemirror_mode": {
    "name": "ipython",
    "version": 3
   },
   "file_extension": ".py",
   "mimetype": "text/x-python",
   "name": "python",
   "nbconvert_exporter": "python",
   "pygments_lexer": "ipython3",
   "version": "3.6.5"
  }
 },
 "nbformat": 4,
 "nbformat_minor": 2
}
