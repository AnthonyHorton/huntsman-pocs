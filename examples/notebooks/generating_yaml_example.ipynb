{
 "cells": [
  {
   "cell_type": "markdown",
   "metadata": {},
   "source": [
    "### Steps for using the widgets:\n",
    "\n",
    "1. Select from the drop-down menus the information for one device set.\n",
    "2. Click 'Add new device set'.\n",
    "3. Select from the drop-down menus the information for the next device set.\n",
    "4. Click 'Add new device set'.\n",
    "5. Repeat until all device sets have been added.\n",
    "6. Click 'Save File' to write the .yaml config file.\n",
    "\n",
    "\n",
    "#### Config files are writen to the following locations on the Huntsman computer bu default:\n",
    "\n",
    "- '/var/huntsman-pocs/conf_files/huntsman.yaml' for the local file.\n",
    "\n",
    "- '/var/huntsman-pocs/conf_files/huntsman_archive/huntsman_YYYY_mm_dd_hh_MM.yaml' for the archive/version control file.\n",
    "\n",
    "Manually assign the directories to place these files by using POCS_device_yaml.assign_local_dir() and POCS_device_yaml.assign_archive_dir() as below."
   ]
  },
  {
   "cell_type": "code",
   "execution_count": 1,
   "metadata": {
    "scrolled": true
   },
   "outputs": [],
   "source": [
    "import generating_yaml"
   ]
  },
  {
   "cell_type": "code",
   "execution_count": 2,
   "metadata": {},
   "outputs": [],
   "source": [
    "POCS_device_yaml = generating_yaml.POCS_devices_database(\n",
    "    local_directory='/var/huntsman/huntsman-pocs/conf_files_test', \n",
    "    device_info_master_directory='/var/huntsman/huntsman-pocs/conf_files_test', \n",
    "    archive_directory='/var/huntsman/huntsman-pocs/conf_files_test/huntsman_archive'\n",
    ")"
   ]
  },
  {
   "cell_type": "code",
   "execution_count": 3,
   "metadata": {},
   "outputs": [
    {
     "data": {
      "application/vnd.jupyter.widget-view+json": {
       "model_id": "ee2f5dc313f94865866d63183a5847ce",
       "version_major": 2,
       "version_minor": 0
      },
      "text/plain": [
       "Button(description='Add new device set', style=ButtonStyle())"
      ]
     },
     "metadata": {},
     "output_type": "display_data"
    },
    {
     "data": {
      "application/vnd.jupyter.widget-view+json": {
       "model_id": "91b1baa7805e447197db40a22ce28063",
       "version_major": 2,
       "version_minor": 0
      },
      "text/plain": [
       "Button(description='Save File', style=ButtonStyle())"
      ]
     },
     "metadata": {},
     "output_type": "display_data"
    }
   ],
   "source": [
    "POCS_device_yaml.start_interface()"
   ]
  },
  {
   "cell_type": "code",
   "execution_count": null,
   "metadata": {},
   "outputs": [],
   "source": []
  }
 ],
 "metadata": {
  "kernelspec": {
   "display_name": "Python 3",
   "language": "python",
   "name": "python3"
  },
  "language_info": {
   "codemirror_mode": {
    "name": "ipython",
    "version": 3
   },
   "file_extension": ".py",
   "mimetype": "text/x-python",
   "name": "python",
   "nbconvert_exporter": "python",
   "pygments_lexer": "ipython3",
   "version": "3.6.5"
  }
 },
 "nbformat": 4,
 "nbformat_minor": 2
}
