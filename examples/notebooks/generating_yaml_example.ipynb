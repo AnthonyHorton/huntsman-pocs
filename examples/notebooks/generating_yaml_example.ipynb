{
 "cells": [
  {
   "cell_type": "markdown",
   "metadata": {},
   "source": [
    "### Steps for using the widgets:\n",
    "\n",
    "1. Select from the drop-down menus the information for one device set.\n",
    "2. Click 'Add new device set'.\n",
    "3. Select from the drop-down menus the information for the next device set.\n",
    "4. Click 'Add new device set'.\n",
    "5. Repeat until all device sets have been added.\n",
    "6. Click 'Save File' to write the .yaml config file.\n",
    "\n",
    "\n",
    "#### Config files are writen to the following locations on the Huntsman computer bu default:\n",
    "\n",
    "- '/var/huntsman-pocs/conf_files/huntsman.yaml' for the local file.\n",
    "\n",
    "- '/var/huntsman-pocs/conf_files/huntsman_archive/huntsman_YYYY_mm_dd_hh_MM.yaml' for the archive/version control file.\n",
    "\n",
    "Manually assign the directories to place these files by using POCS_device_yaml.assign_local_dir() and POCS_device_yaml.assign_archive_dir() as below."
   ]
  },
  {
   "cell_type": "code",
   "execution_count": 1,
   "metadata": {
    "collapsed": true,
    "scrolled": true
   },
   "outputs": [],
   "source": [
    "import generating_yaml"
   ]
  },
  {
   "cell_type": "code",
   "execution_count": 2,
   "metadata": {},
   "outputs": [],
   "source": [
    "POCS_device_yaml = generating_yaml.POCS_devices_database()"
   ]
  },
  {
   "cell_type": "code",
   "execution_count": 3,
   "metadata": {},
   "outputs": [
    {
     "data": {
      "text/plain": [
       "'/Users/moniquec/Documents/Uni/Huntsman_project/huntsman_archive'"
      ]
     },
     "execution_count": 3,
     "metadata": {},
     "output_type": "execute_result"
    }
   ],
   "source": [
    "POCS_device_yaml.set_local_dir(local_directory = '/Users/moniquec/Documents/Uni/Huntsman_project/huntsman_yaml')\n",
    "\n",
    "POCS_device_yaml.set_archive_dir(archive_directory = '/Users/moniquec/Documents/Uni/Huntsman_project/huntsman_archive')\n",
    "\n",
    "#leave the arguments of choose_dir blank to use the default locations to save the files"
   ]
  },
  {
   "cell_type": "code",
   "execution_count": 5,
   "metadata": {},
   "outputs": [
    {
     "name": "stdout",
     "output_type": "stream",
     "text": [
      "This function runs all the code to generate the .yaml config files for the Huntsman-POCS system.\n",
      "        It displays the Jupyter widgets which the user can interact with to write and save the config files.\n",
      "\n",
      "        Files are saved in two locations, one for the local file that POCS will access,\n",
      "                        and the other is an archive of all previous config files which acts as a version control.\n",
      "        By default, these locations are: (but can be changed using the assign_local_dir() and assign_archive_dir() functions)\n",
      "            '/var/huntsman-pocs/conf_files/huntsman.yaml' for the local file.\n",
      "            '/var/huntsman-pocs/conf_files/huntsman_archive/huntsman_YYYY_mm_dd_hh_MM.yaml' for the archive file.\n",
      "\n",
      "        Steps for the user to follow:\n",
      "            Select from the dropdown menus the information for one device set.\n",
      "            Click 'Add new device set'.\n",
      "            Select from the dropdown menus the information for the next device set.\n",
      "            Click 'Add new device set'.\n",
      "            Repeat until all device sets have been added.\n",
      "            Click 'Save File' to write the .yaml file.\n",
      "\n",
      "        Displays:\n",
      "            Jupyter widgets of drop-down menus to select the device sets.\n",
      "                These widgets are used to generate and save the .yaml config files.\n",
      "\n",
      "        Output:\n",
      "            A .yaml config file for Huntsman\n",
      "\n",
      "        \n"
     ]
    },
    {
     "data": {
      "application/vnd.jupyter.widget-view+json": {
       "model_id": "abd6d93f5b8d43a79b2ad9d407c7c78f"
      }
     },
     "metadata": {},
     "output_type": "display_data"
    },
    {
     "data": {
      "application/vnd.jupyter.widget-view+json": {
       "model_id": "d1bd94dc83554546908d812b60da504f"
      }
     },
     "metadata": {},
     "output_type": "display_data"
    },
    {
     "data": {
      "application/vnd.jupyter.widget-view+json": {
       "model_id": "dad52956d7a145708631d977d2eb35bd"
      }
     },
     "metadata": {},
     "output_type": "display_data"
    },
    {
     "data": {
      "application/vnd.jupyter.widget-view+json": {
       "model_id": "894083aa2b2942e1ae019a1c26f38c15"
      }
     },
     "metadata": {},
     "output_type": "display_data"
    },
    {
     "data": {
      "application/vnd.jupyter.widget-view+json": {
       "model_id": "3360962790af4e25ac9e934fcd4199c6"
      }
     },
     "metadata": {},
     "output_type": "display_data"
    },
    {
     "data": {
      "application/vnd.jupyter.widget-view+json": {
       "model_id": "5183921e3dca41fa8183fdd3552d32b1"
      }
     },
     "metadata": {},
     "output_type": "display_data"
    },
    {
     "data": {
      "application/vnd.jupyter.widget-view+json": {
       "model_id": "1f7ef41f58fd492fbecd5f920d79d41f"
      }
     },
     "metadata": {},
     "output_type": "display_data"
    },
    {
     "data": {
      "application/vnd.jupyter.widget-view+json": {
       "model_id": "56bb5e76ab864ff2bd9039720c7bba35"
      }
     },
     "metadata": {},
     "output_type": "display_data"
    },
    {
     "data": {
      "application/vnd.jupyter.widget-view+json": {
       "model_id": "6d254b39dbb3415bb1406e8761aaaffd"
      }
     },
     "metadata": {},
     "output_type": "display_data"
    },
    {
     "data": {
      "application/vnd.jupyter.widget-view+json": {
       "model_id": "aed6df0ded0546e892dea34f47631086"
      }
     },
     "metadata": {},
     "output_type": "display_data"
    }
   ],
   "source": [
    "POCS_device_yaml.create_yaml_file()"
   ]
  },
  {
   "cell_type": "code",
   "execution_count": null,
   "metadata": {
    "collapsed": true
   },
   "outputs": [],
   "source": []
  }
 ],
 "metadata": {
  "kernelspec": {
   "display_name": "Python 3",
   "language": "python",
   "name": "python3"
  },
  "language_info": {
   "codemirror_mode": {
    "name": "ipython",
    "version": 3
   },
   "file_extension": ".py",
   "mimetype": "text/x-python",
   "name": "python",
   "nbconvert_exporter": "python",
   "pygments_lexer": "ipython3",
   "version": "3.6.1"
  }
 },
 "nbformat": 4,
 "nbformat_minor": 2
}
