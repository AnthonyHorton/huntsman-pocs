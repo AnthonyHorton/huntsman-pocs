{
 "cells": [
  {
   "cell_type": "markdown",
   "metadata": {},
   "source": [
    "### Steps for using the widgets:\n",
    "\n",
    "1. Select from the drop-down menus the information for one device set.\n",
    "2. Click 'Add new device set'.\n",
    "3. Select from the drop-down menus the information for the next device set.\n",
    "4. Click 'Add new device set'.\n",
    "5. Repeat until all device sets have been added.\n",
    "6. Click 'Save File' to write the .yaml config file.\n",
    "\n",
    "\n",
    "#### Config files are writen to the following locations on the Huntsman computer bu default:\n",
    "\n",
    "- '/var/huntsman-pocs/conf_files/huntsman.yaml' for the local file.\n",
    "\n",
    "- '/var/huntsman-pocs/conf_files/huntsman_archive/huntsman_YYYY_mm_dd_hh_MM.yaml' for the archive/version control file.\n",
    "\n",
    "Manually assign the directories to place these files by using POCS_device_yaml.assign_local_dir() and POCS_device_yaml.assign_archive_dir() as below."
   ]
  },
  {
   "cell_type": "code",
   "execution_count": 1,
   "metadata": {
    "collapsed": true,
    "scrolled": true
   },
   "outputs": [],
   "source": [
    "import generating_yaml"
   ]
  },
  {
   "cell_type": "code",
   "execution_count": 2,
   "metadata": {},
   "outputs": [],
   "source": [
    "POCS_device_yaml = generating_yaml.POCS_devices_database(local_directory = '/Users/moniquec/Documents/Uni/Huntsman_project/huntsman_yaml', device_info_master_directory = '/Users/moniquec/Documents/Uni/Huntsman_project/huntsman_yaml', archive_directory = '/Users/moniquec/Documents/Uni/Huntsman_project/huntsman_archive')"
   ]
  },
  {
   "cell_type": "code",
   "execution_count": 4,
   "metadata": {},
   "outputs": [
    {
     "name": "stdout",
     "output_type": "stream",
     "text": [
      "This function runs all the code to generate the .yaml config files for the Huntsman-POCS system.\n",
      "        It displays the Jupyter widgets which the user can interact with to write and save the config files.\n",
      "\n",
      "        Files are saved in two locations, one for the local file that POCS will access,\n",
      "                        and the other is an archive of all previous config files which acts as a version control.\n",
      "        By default, these locations are: (but can be changed using the assign_local_dir() and assign_archive_dir() functions)\n",
      "            '/var/huntsman-pocs/conf_files/huntsman.yaml' for the local file.\n",
      "            '/var/huntsman-pocs/conf_files/huntsman_archive/huntsman_YYYY_mm_dd_hh_MM.yaml' for the archive file.\n",
      "\n",
      "        Steps for the user to follow:\n",
      "            Select from the dropdown menus the information for one device set.\n",
      "            Click 'Add new device set'.\n",
      "            Select from the dropdown menus the information for the next device set.\n",
      "            Click 'Add new device set'.\n",
      "            Repeat until all device sets have been added.\n",
      "            Click 'Save File' to write the .yaml file.\n",
      "\n",
      "        Displays:\n",
      "            Jupyter widgets of drop-down menus to select the device sets.\n",
      "                These widgets are used to generate and save the .yaml config files.\n",
      "\n",
      "        Output:\n",
      "            A .yaml config file for Huntsman\n",
      "\n",
      "        \n"
     ]
    },
    {
     "data": {
      "application/vnd.jupyter.widget-view+json": {
       "model_id": "6723ef3bb0b548929b8d13a23de0a020"
      }
     },
     "metadata": {},
     "output_type": "display_data"
    },
    {
     "data": {
      "application/vnd.jupyter.widget-view+json": {
       "model_id": "a6b41864ee104e72952983423a3632b8"
      }
     },
     "metadata": {},
     "output_type": "display_data"
    },
    {
     "data": {
      "application/vnd.jupyter.widget-view+json": {
       "model_id": "68e51d7b9dcd44f5a5a282c4dc300f51"
      }
     },
     "metadata": {},
     "output_type": "display_data"
    },
    {
     "data": {
      "application/vnd.jupyter.widget-view+json": {
       "model_id": "1cd1a8785d3c4c7e91ee9ef3aa6adb3e"
      }
     },
     "metadata": {},
     "output_type": "display_data"
    },
    {
     "data": {
      "application/vnd.jupyter.widget-view+json": {
       "model_id": "82a60d16096f49cdb7f85c97fd192fc8"
      }
     },
     "metadata": {},
     "output_type": "display_data"
    },
    {
     "data": {
      "application/vnd.jupyter.widget-view+json": {
       "model_id": "879dfeadf73c4fc48db3dcd6ac2da12a"
      }
     },
     "metadata": {},
     "output_type": "display_data"
    },
    {
     "data": {
      "application/vnd.jupyter.widget-view+json": {
       "model_id": "eb302ab2111a40f9b553f63cc97ce2c0"
      }
     },
     "metadata": {},
     "output_type": "display_data"
    },
    {
     "data": {
      "application/vnd.jupyter.widget-view+json": {
       "model_id": "872a33d959cf46bbacc8f17d66bd276c"
      }
     },
     "metadata": {},
     "output_type": "display_data"
    },
    {
     "data": {
      "application/vnd.jupyter.widget-view+json": {
       "model_id": "7331cabb865a437e9a3167493bade6bc"
      }
     },
     "metadata": {},
     "output_type": "display_data"
    },
    {
     "data": {
      "application/vnd.jupyter.widget-view+json": {
       "model_id": "fa7253ecff6446e6a6f1ca896fc1a46e"
      }
     },
     "metadata": {},
     "output_type": "display_data"
    }
   ],
   "source": [
    "POCS_device_yaml.create_yaml_file()"
   ]
  },
  {
   "cell_type": "code",
   "execution_count": null,
   "metadata": {
    "collapsed": true
   },
   "outputs": [],
   "source": []
  }
 ],
 "metadata": {
  "kernelspec": {
   "display_name": "Python 3",
   "language": "python",
   "name": "python3"
  },
  "language_info": {
   "codemirror_mode": {
    "name": "ipython",
    "version": 3
   },
   "file_extension": ".py",
   "mimetype": "text/x-python",
   "name": "python",
   "nbconvert_exporter": "python",
   "pygments_lexer": "ipython3",
   "version": "3.6.1"
  }
 },
 "nbformat": 4,
 "nbformat_minor": 2
}
